{
 "cells": [
  {
   "cell_type": "markdown",
   "metadata": {
    "id": "qOhteSo9m3wn"
   },
   "source": [
    "# ASSIGNMENT-1(MA23M025)"
   ]
  },
  {
   "cell_type": "markdown",
   "metadata": {
    "id": "SieuzU-rsmc1"
   },
   "source": [
    "$$MA23M025$$\n",
    "\n",
    "$$ROLL NO. - MA23M025$$\n",
    "\n",
    "$$ASSIGNMENT-1$$"
   ]
  },
  {
   "cell_type": "markdown",
   "metadata": {
    "id": "HRt1VJVfb9Zd"
   },
   "source": [
    "# **QUESTION-2.1**\n",
    "\n",
    "a. Let H ∈ {1, . . . , K} be a discrete random variable, and let e1 and e2 be the observed values of two other random variables E1 and E2. Suppose we wish to calculate the vector P~(H|e1, e2) = (P(H = 1|e1, e2), . . . , P(H = K|e1, e2))\n",
    "Which of the following sets of numbers are sufficient for the calculation?\n",
    "\n",
    "i. P(e1, e2), P(H), P(e1|H), P(e2|H)\n",
    "\n",
    "ii. P(e1, e2), P(H), P(e1, e2|H)\n",
    "\n",
    "iii. P(e1|H), P(e2|H), P(H).\n",
    "\n",
    "b. Now suppose we now assume E1 ⊥ E2|H (i.e., E1 and E2 are conditionally independent given H). Which\n",
    "of the above 3 sets are sufficient now?\n"
   ]
  },
  {
   "cell_type": "markdown",
   "metadata": {
    "id": "fyycK6_-ldzG"
   },
   "source": [
    "**SOLUTION:**\n",
    "\n",
    "**(a)Let H ∈ {1, . . . , K} be a discrete random variable, and let e1 and e2 be the observed values of two other random variables E1 and E2. Suppose we wish to calculate the vector P~(H|e1, e2) = (P(H = 1|e1, e2), . . . , P(H = K|e1, e2)) Which of the following sets of numbers are sufficient for the calculation?**\n",
    "\n",
    "i. P(e1, e2), P(H), P(e1|H), P(e2|H)\n",
    "\n",
    "ii. P(e1, e2), P(H), P(e1, e2|H)\n",
    "\n",
    "iii. P(e1|H), P(e2|H), P(H).\n",
    "\n",
    "\n",
    "We do not have any independence assumption so  P(H|e1,e2)= (P(e1,e2|H)P(H))/P(e1,e2)\n",
    "\n",
    "so weed to know 3 probabilities (i.e P(e1, e2), P(H), P(e1, e2|H) )\n",
    "Which is set 2\n",
    "\n",
    "so set 2 is sufficient to calculate P~(H|e1, e2) = (P(H = 1|e1, e2), . . . , P(H = K|e1, e2))\n",
    "\n",
    "**b. Now suppose we now assume E1 ⊥ E2|H (i.e., E1 and E2 are conditionally independent given H). Which of the above 3 sets are sufficient now?**\n",
    "\n",
    "**SOLUTION:**\n",
    "\n",
    "Given that E1,E2 are conditionally independent\n",
    "\n",
    "Suppose we know that E1⊥E2|H  [i.e P(e1,e2|H)=P(e1|H) P(e2|H)]\n",
    "\n",
    "so set (i) is suficient for this."
   ]
  },
  {
   "cell_type": "markdown",
   "metadata": {
    "id": "nt9gDlS6cv2U"
   },
   "source": []
  },
  {
   "cell_type": "markdown",
   "metadata": {
    "id": "7fH6gk6acz3Q"
   },
   "source": [
    "# **QUESTION-2.3**\n",
    "In the text we said X ⊥ Y |Z iff\n",
    "p(x, y|z) = p(x|z)p(y|z)\n",
    "for all x, y, z such that p(z) > 0. Now prove the following alternative definition: X ⊥ Y |Z iff there exist\n",
    "functions g and h such that\n",
    "p(x, y|z) = g(x, z)h(y, z)\n",
    "for all x, y, z such that p(z) > 0."
   ]
  },
  {
   "cell_type": "markdown",
   "metadata": {
    "id": "iombGZlllCHS"
   },
   "source": [
    "**SOLUTION:**\n",
    "\n",
    "**PROOF:**\n",
    "\n",
    "\n",
    "We have to prove\n",
    "\n",
    "X⊥Y|Z  iff  there exist functions g and h such that p(x, y|z) = g(x, z)h(y, z)\n",
    "for all x, y, z such that p(z) > 0\n",
    "\n",
    "we already know that X ⊥Y|Z iff p(x, y|z) = p(x|z)p(y|z) for all x, y, z such that p(z) > 0.\n",
    "\n",
    "**(1)X ⊥Y|Z $\\implies$ p(x, y|z) = g(x,z)h(y,z):**\n",
    "\n",
    "Assume that X ⊥Y|Z,from the orginal definition we know that p(x, y|z) = p(x|z)p(y|z)\n",
    "\n",
    "let us define g(x, z) = p(x/z) and h(y,z)= p(y/z)\n",
    "\n",
    "by substituting above  in the original definition we will get\n",
    "$$\n",
    "p(x, y|z) = g(x, z)h(y, z)\n",
    "$$\n",
    "\n",
    "This proves that if X ⊥Y|Z then there exist functions g and h such that p(x, y|z) = g(x, z)h(y, z)\n",
    "\n",
    "\n",
    "**(2)p(x, y|z) = g(x,z)h(y,z) $\\implies$ X ⊥Y|Z:**\n",
    "\n",
    "Assume that there exist functions g and h such that p(x, y|z) = g(x,z)h(y,z) for all x, y, z such that p(z) > 0.\n",
    "then we have to show X ⊥Y|Z\n",
    "\n",
    "which means we have to show p(x, y|z) = p(x|z)p(y|z)\n",
    "\n",
    "\n",
    "$$\n",
    "       p(x, y|z) = g(x,z)h(y,z)\n",
    "       \\implies     \\frac{p(x, y|z)}{h(y,z)} = g(x,z)\n",
    "$$\n",
    "\n",
    "by product rule p(x, y|z) = p(x|z)p(y|z) and we know that h(y,z)=p(y/z)\n",
    "substituting above two in the equation ,we wiull get\n",
    "$$\n",
    "\\frac{p(x, y|z)}{h(y,z)} = p(x/z)  \\implies  p(x, y|z) = p(x|z)p(y|z)\n",
    "$$\n",
    "\n",
    "which implies X ⊥Y|Z\n",
    "\n",
    "hence proved\n",
    "\n"
   ]
  },
  {
   "cell_type": "markdown",
   "metadata": {
    "id": "bzmUDC09dDnA"
   },
   "source": [
    "# **QUESTION-2.5**\n",
    "Suppose X, Y are two points sampled independently and uniformly at random from the interval [0, 1]. What is the expected location of the leftmost point?"
   ]
  },
  {
   "cell_type": "markdown",
   "metadata": {
    "id": "4WD7eXAtlTLE"
   },
   "source": [
    "**SOLUTION:**\n",
    "\n",
    "Given that X, Y are two points sampled independently and uniformly at random from the interval [0, 1],then we have to find the expected location of the left most point\n",
    "\n",
    "Let L be the left most point,then L = min(X,Y)\n",
    "\n",
    "by the formula we know that expected value of L is  \n",
    "\n",
    "$$\n",
    "\\int_{-∞}^{∞} \\int_{-∞}^{∞} L * f(x,y) dx dy\n",
    "$$\n",
    "\n",
    "since X and Y are uniformly distributed on the interval [0, 1], the joint probability density function f (x,y) is constant over this region and equal to 1\n",
    "\n",
    "so the Expected vaklue is\n",
    "$$\n",
    "E[L] =  \\int_{0}^{1} \\int_{0}^{1} L * 1 dx dy\n",
    "$$\n",
    "we know that\n",
    "\n",
    "**(1)if  X<Y then L = X**\n",
    "\n",
    "\n",
    "**(1)if  Y<X then L = Y**\n",
    "\n",
    "so the expected value can be written as\n",
    "$$\n",
    "E[L] =  \\int_{0}^{1} \\int_{0}^{y} X dx dy + \\int_{0}^{1} \\int_{y}^{1} Y dx dy\n",
    "=1/3\n",
    "$$\n",
    "\n",
    "So the Expected location of the left most point is  $\\frac{1}{3} $.\n"
   ]
  },
  {
   "cell_type": "markdown",
   "metadata": {
    "id": "xy9iopP9lKRH"
   },
   "source": [
    "****"
   ]
  },
  {
   "cell_type": "markdown",
   "metadata": {
    "id": "VNfzvDCQlvNN"
   },
   "source": [
    "**SOLUTION:**"
   ]
  },
  {
   "cell_type": "markdown",
   "metadata": {
    "id": "UjtVczEjdi7C"
   },
   "source": [
    "# **QUESTION-2.11**\n",
    "My neighbor has two children. Assuming that the gender of a child is like a coin flip,it is most likely, a priori, that my neighbor has one boy and one girl, with probability 1/2. The other possibilities—two boys or two girls—have probabilities 1/4 and 1/4.\n",
    "\n",
    "a. Suppose I ask him whether he has any boys, and he says yes. What is the probability that one child is a girl?\n",
    "\n",
    "b. Suppose instead that I happen to see one of his children run by, and it is a boy. What is the probability\n",
    "that the other child is a girl?\n"
   ]
  },
  {
   "cell_type": "markdown",
   "metadata": {
    "id": "CmO3j9iydyeP"
   },
   "source": []
  },
  {
   "cell_type": "markdown",
   "metadata": {
    "id": "12xkRtkQlyi-"
   },
   "source": [
    "**SOLUTION:**"
   ]
  },
  {
   "cell_type": "markdown",
   "metadata": {
    "id": "tn2EuLtbk9L0"
   },
   "source": [
    "Give that probability of my neighbor for having one boy and one girl is 1/2 and probability for having two boys or two girls is 1/4  \n",
    "**(a)Suppose I ask him whether he has any boys, and he says yes. What is the probability that one child is a girl?**\n",
    "\n",
    "let B denotes Boy and G denotes Girl,and total number of posibilities are 4(i.e BB,BG,GB,GG)\n",
    "\n",
    "P(BB)=1/4 and P(BG)=1/2\n",
    "\n",
    "we can solve this byy Bayes theorem\n",
    "\n",
    "The probability of having at least one boy (either BB or BG) is 3/4 (i.e 1/4 + 1/2). Now, we can calculate the conditional probability that one child is a girl given that he has at least one boy\n",
    "\n",
    "$$\n",
    "P(G/B)=\\frac{P(B/G) P(G)}{P(B)}\n",
    "\\implies P(G/B) = \\frac{1/2}{3/4} = 2/3\n",
    "$$\n",
    "\n",
    "**(b)Suppose instead that I happen to see one of his children run by, and it is a boy. What is the probability that the other child is a girl**\n",
    "\n",
    "Probability for a boy and a girl is 1/2,So by using Bayes rule we can say that\n",
    "probability for a boy and one girl is 1/2.\n",
    "\n",
    "\n",
    "\n"
   ]
  },
  {
   "cell_type": "markdown",
   "metadata": {
    "id": "BHibLXt5n_Zw"
   },
   "source": [
    "**Coding:**"
   ]
  },
  {
   "cell_type": "markdown",
   "metadata": {
    "id": "Lv0ZrKMKsSAh"
   },
   "source": [
    "#2.3.1"
   ]
  },
  {
   "cell_type": "code",
   "execution_count": null,
   "metadata": {
    "colab": {
     "base_uri": "https://localhost:8080/"
    },
    "id": "xf8eS7O3rSMI",
    "outputId": "ba91211f-7c1e-4db5-ed5b-fed8b773bc98"
   },
   "outputs": [
    {
     "name": "stdout",
     "output_type": "stream",
     "text": [
      "Probability of being negative after testing negative: 0.9859550561797753\n",
      "Probability of being positive after testing positive: 0.7954545454545454\n"
     ]
    }
   ],
   "source": [
    "import numpy as np\n",
    "\n",
    "def medicalTest(h, YH):\n",
    "  p0 = YH[0][0]*h[0]/(YH[0][0]*h[0]+YH[1][0]*h[1])\n",
    "  p1 = YH[1][1]*h[1]/(YH[1][1]*h[1]+YH[0][1]*h[0])\n",
    "  return p0, p1\n",
    "\n",
    "h = np.array([0.9, 0.1])\n",
    "YH = np.array([[0.975, 0.025], [0.125, 0.875]])\n",
    "\n",
    "result = medicalTest(h, YH)\n",
    "print(\"Probability of being negative after testing negative:\", result[0])\n",
    "print(\"Probability of being positive after testing positive:\", result[1])\n"
   ]
  },
  {
   "cell_type": "markdown",
   "metadata": {
    "id": "ALWUMNi5sYS9"
   },
   "source": [
    "#2.9"
   ]
  },
  {
   "cell_type": "code",
   "execution_count": null,
   "metadata": {
    "colab": {
     "base_uri": "https://localhost:8080/"
    },
    "id": "gh11dUd_g6pq",
    "outputId": "611f1da6-6392-4870-fc52-c0d2e6bb75df"
   },
   "outputs": [
    {
     "name": "stdout",
     "output_type": "stream",
     "text": [
      "Probability of being negative after testing negative: 0.9999989897989902\n",
      "Probability of being positive after testing positive: 0.00980392156862745\n"
     ]
    }
   ],
   "source": [
    "h = np.array([0.9999, 0.0001])\n",
    "YH = np.array([[0.99, 0.01], [0.01, 0.99]])\n",
    "\n",
    "result = medicalTest(h, YH)\n",
    "print(\"Probability of being negative after testing negative:\", result[0])\n",
    "print(\"Probability of being positive after testing positive:\", result[1])\n"
   ]
  },
  {
   "cell_type": "code",
   "execution_count": null,
   "metadata": {
    "id": "yq1-w8n4p_AH"
   },
   "outputs": [],
   "source": []
  }
 ],
 "metadata": {
  "colab": {
   "provenance": []
  },
  "kernelspec": {
   "display_name": "Python 3",
   "name": "python3"
  },
  "language_info": {
   "name": "python"
  }
 },
 "nbformat": 4,
 "nbformat_minor": 0
}
